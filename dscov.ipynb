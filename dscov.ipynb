{
 "cells": [
  {
   "cell_type": "markdown",
   "metadata": {},
   "source": [
    "# Overview\n",
    "\n",
    "This is an informal overview of what is a more comprehensive and longer workshop run by the Computational Biology Core, which is primarily for more regular R users and biologists. Some of the material here will probably thus be very confusing if you have little to no R background. I'll do my best to explain some of the more basic R functions. You can also run `?function` to see what a function does at any time.\n",
    "\n",
    "However, primarily we will be talking about tidying and transforming data, which is an important piece of data science no matter what programming language you use. The paradigm we will be using is that of **tidyverse**, which is popular enough that equivalents often exist in other languages commonly used for datasci like Python and Julia. Those equivalents will be mentioned in each section.\n",
    "\n",
    "Most of this workshop is taken from Hadley's [R for Data Science](https://r4ds.had.co.nz/) book. You can find more examples, explanations and exercises there if you want.\n",
    "\n",
    "## Executing cells in Jupyter notebook\n",
    "\n",
    "If you've never used Jupyter notebook, you can execute code in any cell by hitting *Shift+Enter*. You can also modify code in a cell then execute it. It's designed to go in order, so you might get an error if you jump ahead (although there are some errors placed thruout the notebook intentionally...)\n",
    "\n",
    "# Package prerequisites\n",
    "\n",
    "Packages that required in this workshop are **tidyverse**, which includes the packages **ggplot2**, **dplyr**, **purrr**, and others, **gridExtra** which helps with arranging plots next to each other, **ggrepel** which helps with plot labels and **maps** which is for map data.\n",
    "\n",
    "The command `library(xyz)` loads package `xyz`, similar to `import module` from Python."
   ]
  },
  {
   "cell_type": "code",
   "execution_count": null,
   "metadata": {},
   "outputs": [],
   "source": [
    "library(tidyverse)\n",
    "library(gridExtra)\n",
    "library(ggrepel)\n",
    "library(maps)"
   ]
  },
  {
   "cell_type": "markdown",
   "metadata": {},
   "source": [
    "If you get an error message “there is no package called ‘xyz’” then you need to install the packages first. (They should have been preloaded on your notebooks but if not it's ok, it won't take long.)"
   ]
  },
  {
   "cell_type": "code",
   "execution_count": null,
   "metadata": {},
   "outputs": [],
   "source": [
    "#install.packages('tidyverse')\n",
    "#install.packages('gridExtra')\n",
    "#install.packages('ggrepel')\n",
    "#install.packages('maps')"
   ]
  },
  {
   "cell_type": "markdown",
   "metadata": {},
   "source": [
    "# Visualizing Data\n",
    "\n",
    "Core feature of exploratory data analysis is asking questions about data and searching for answers by visualizing and modeling data. Most questions around what type of variation or covariation occurs between variables."
   ]
  },
  {
   "cell_type": "code",
   "execution_count": null,
   "metadata": {},
   "outputs": [],
   "source": [
    "# sets options for plot width and plot height in notebook\n",
    "options(repr.plot.width=6, repr.plot.height=4)\n",
    "# regular plot functions in R\n",
    "plot(x=mpg$displ,y=mpg$hwy)"
   ]
  },
  {
   "cell_type": "code",
   "execution_count": null,
   "metadata": {},
   "outputs": [],
   "source": [
    "# ggplot!\n",
    "ggplot(data=mpg) + geom_point(mapping=aes(x=displ,y=hwy))"
   ]
  },
  {
   "cell_type": "markdown",
   "metadata": {},
   "source": [
    "Basic syntax of ggplot:\n",
    "```\n",
    "ggplot(data=<DATA>) +\n",
    "    <GEOM_FUNCTION>(mapping=aes(<MAPPINGS>)\n",
    "```"
   ]
  },
  {
   "cell_type": "code",
   "execution_count": null,
   "metadata": {},
   "outputs": [],
   "source": [
    "ggplot(mpg, aes(displ, hwy)) +\n",
    "  geom_point(aes(color = class)) +\n",
    "  geom_smooth(se = FALSE) +\n",
    "  labs(x=\"Engine displacement (L)\",y=\"Heighway fuel economy (mpg)\",\n",
    "    title = \"Fuel efficiency generally decreases with engine size\",\n",
    "    caption = \"Data from fueleconomy.gov\",\n",
    "    subtitle = \"Two seaters (sports cars) are an exception because of their light weight\",\n",
    "    colour = \"Car type\"\n",
    "  ) + theme_classic()"
   ]
  },
  {
   "cell_type": "markdown",
   "metadata": {},
   "source": [
    "## But first...\n",
    "\n",
    "```\n",
    "ggplot(data=<DATA>) +\n",
    "    <GEOM_FUNCTION>(mapping=aes(<MAPPINGS>)\n",
    "```\n",
    "\n",
    "How do we get data into a form appropriate for **ggplot2**?"
   ]
  },
  {
   "cell_type": "markdown",
   "metadata": {},
   "source": [
    "# Tidying Data\n",
    "\n",
    "Most datasets are data frames made up of **rows** and **columns**. However, talking about data frames just in terms of what rows and columns it has is not enough.\n",
    "\n",
    " * **Variable:** quantity, quality, property that can be measured.\n",
    " * **Value:** State of variable when measured.\n",
    " * **Observation:** Set of measurements made under similar conditions\n",
    " * **Tabular data:** Set of values, each associated with a variable and an observation.\n",
    "\n",
    "Tidy data:\n",
    " * Each variable is its own column\n",
    " * Each observation is its own row\n",
    " * Each value is in a single cell\n",
    " \n",
    "Benefits:\n",
    " * Easy to manipulate\n",
    " * Easy to model\n",
    " * Easy to visualize\n",
    " * Has a specific and consistent structure\n",
    " * Stucture makes it easy to tidy other data\n",
    " \n",
    "Cons:\n",
    " * Data frame is not as easy to look at\n",
    "\n",
    "Consider the following tables:"
   ]
  },
  {
   "cell_type": "code",
   "execution_count": null,
   "metadata": {
    "scrolled": true
   },
   "outputs": [],
   "source": [
    "# data.frame makes a data frame\n",
    "# c(a,b,c) creates a vector with objects a,b,c\n",
    "# rep(x,y) creates a vector that repeats x y times\n",
    "# assignment in R is done with <- (you can use = sometimes but there are some scope differences)\n",
    "table1 <- data.frame(makemodel=c(\"audi a4\",\"audi a4\",\"chevrolet corvette\",\"chevrolet corvette\",\"honda civic\",\"honda civic\"),\n",
    "                    year=rep(c(1999,2008),3),\n",
    "                    cty=c(18,21,15,15,24,25),\n",
    "                    hwy=c(29,30,23,25,32,36))\n",
    "table1"
   ]
  },
  {
   "cell_type": "markdown",
   "metadata": {},
   "source": [
    "This is tidy data, because each column is a variable, each observation is a row, and each value is in a single cell\n",
    "\n",
    "Next we will look at some non-tidy data and operations from the **tidyr** package (part of **tidyverse**) to make the data tidy. Many of you might be more used to using operations from **reshape2** like melting and casting. It's a very useful package with more functionality including aggregating data, but syntax with **tidyr** commands is more simpler and intuitive for the purposes of tidying data. Can check out [Pandas documentation](http://pandas.pydata.org/pandas-docs/stable/user_guide/reshaping.html) for similar functions in Python although they have different names."
   ]
  },
  {
   "cell_type": "markdown",
   "metadata": {},
   "source": [
    "## Gathering"
   ]
  },
  {
   "cell_type": "code",
   "execution_count": null,
   "metadata": {},
   "outputs": [],
   "source": [
    "table2a <- data.frame(makemodel=c(\"audi a4\",\"chevrolet corvette\",\"honda civic\"),`1999`=c(18,15,24),'2008'=c(21,15,25),check.names=FALSE)\n",
    "table2b <- data.frame(makemodel=c(\"audi a4\",\"chevrolet corvette\",\"honda civic\"),`1999`=c(29,23,32),'2008'=c(30,25,36),check.names=FALSE)\n",
    "table2a\n",
    "table2b"
   ]
  },
  {
   "cell_type": "markdown",
   "metadata": {},
   "source": [
    "`table2a` column names `1999` and `2008` represent values of `year` variable. `table2b` is the same. Each row represents 2 observations, not 1. Need to gather columns into new pair of variables.\n",
    "\n",
    "Parameters:\n",
    " * Set of columns that represent values, not variables.\n",
    " * `key`: name of variable whose values are currently column names.\n",
    " * `value`: name of variable whose values are currently spread out across multiple columns.\n",
    "\n",
    "Experiments often report data in the format of `table4a` and `table4b`. One reason is for presentation purposes it's very easy to look at. Another is storage is efficient for completely crossed designs and can allow matrix operations."
   ]
  },
  {
   "cell_type": "code",
   "execution_count": null,
   "metadata": {},
   "outputs": [],
   "source": [
    "tidy2a <- gather(table2a,`1999`,`2008`,key=\"year\",value=\"cty\")\n",
    "tidy2a"
   ]
  },
  {
   "cell_type": "code",
   "execution_count": null,
   "metadata": {},
   "outputs": [],
   "source": [
    "tidy2b <- gather(table2b, `1999`, `2008`, key = \"year\", value = \"hwy\")\n",
    "tidy2b"
   ]
  },
  {
   "cell_type": "markdown",
   "metadata": {},
   "source": [
    "Merge tables using `left_join()` (many other types of [table joins](https://dplyr.tidyverse.org/reference/join.html) as well)"
   ]
  },
  {
   "cell_type": "code",
   "execution_count": null,
   "metadata": {},
   "outputs": [],
   "source": [
    "right_join(tidy2a,tidy2b)"
   ]
  },
  {
   "cell_type": "markdown",
   "metadata": {},
   "source": [
    "## Spreading"
   ]
  },
  {
   "cell_type": "code",
   "execution_count": null,
   "metadata": {},
   "outputs": [],
   "source": [
    "table3 <- data.frame(makemodel=c(rep(\"audi a4\",4),rep(\"chevrolet corvette\",4),rep(\"honda civic\",4)),\n",
    "                    year=rep(c(1999,1999,2008,2008),3),\n",
    "                    type=rep(c(\"cty\",\"hwy\"),6),\n",
    "                     mileage=c(18,29,21,30,15,23,15,25,24,32,25,36))\n",
    "table3"
   ]
  },
  {
   "cell_type": "markdown",
   "metadata": {},
   "source": [
    "`table3` has each observation in two rows. Need to spread observations across columns with appropriate variable names instead.\n",
    "\n",
    "Parameters:\n",
    " * `key`: Column that contains variable names.\n",
    " * `value`: Column that contains values for each variable."
   ]
  },
  {
   "cell_type": "code",
   "execution_count": null,
   "metadata": {},
   "outputs": [],
   "source": [
    "spread(table3, key=type,value=mileage)"
   ]
  },
  {
   "cell_type": "markdown",
   "metadata": {},
   "source": [
    "## Separating"
   ]
  },
  {
   "cell_type": "code",
   "execution_count": null,
   "metadata": {},
   "outputs": [],
   "source": [
    "table4 <- data.frame(makemodel=c(\"audi a4\",\"audi a4\",\"chevrolet corvette\",\"chevrolet corvette\",\"honda civic\",\"honda civic\"),\n",
    "                     year=rep(c(1999,2008),3),\n",
    "                    mileages=c('18/29','21/30','15/23','15/25','24/32','25/36'))\n",
    "table4"
   ]
  },
  {
   "cell_type": "markdown",
   "metadata": {},
   "source": [
    "`table4` has `mileages` column that actually contains two variables (`cty` and `hwy`). Need to separate into two columns.\n",
    "\n",
    "Parameters:\n",
    " * column/variable that needs to be separated.\n",
    " * `into`: columns to split into\n",
    " * `sep`: separator value. Can be regexp or positions to split at. If not provided then splits at non-alphanumeric characters."
   ]
  },
  {
   "cell_type": "code",
   "execution_count": null,
   "metadata": {},
   "outputs": [],
   "source": [
    "separate(table4, mileages, into = c(\"cty\", \"hwy\"), sep=\"/\")"
   ]
  },
  {
   "cell_type": "code",
   "execution_count": null,
   "metadata": {},
   "outputs": [],
   "source": [
    "sep <- separate(table4, makemodel, into = c(\"make\", \"model\"), sep = ' ')\n",
    "sep"
   ]
  },
  {
   "cell_type": "markdown",
   "metadata": {},
   "source": [
    "## Uniting\n",
    "\n",
    "Now `sep` has `make` and `model` columns that can be combined into a single column. In other words, we want to unite them.\n",
    "\n",
    "Parameters:\n",
    " * Name of united column/variable\n",
    " * Names of columns/variables to be united\n",
    " * `sep`: Separator value. Default is '_'\n"
   ]
  },
  {
   "cell_type": "code",
   "execution_count": null,
   "metadata": {},
   "outputs": [],
   "source": [
    "unite(sep, new, make, model)"
   ]
  },
  {
   "cell_type": "code",
   "execution_count": null,
   "metadata": {},
   "outputs": [],
   "source": [
    "unite(sep, makemodel, make, model, sep=' ')"
   ]
  },
  {
   "cell_type": "markdown",
   "metadata": {},
   "source": [
    "## Piping\n",
    "\n",
    "**dplyr** from **tidyverse** contains the 'pipe' (`%>%`) which allows you to combine multiple operations, directly taking output from a funtion as input to the next. Can save time and memory as well as make code easier to read. Can think of it this way: `x %>% f(y)` becomes `f(x,y)`, and `x %>% f(y) %>% g(z)` becomes `g(f(x,y),z)`, etc."
   ]
  },
  {
   "cell_type": "code",
   "execution_count": null,
   "metadata": {},
   "outputs": [],
   "source": [
    "unite(sep, makemodel, make, model, sep=' ') %>%\n",
    "    separate(mileages, into=c(\"cty\",\"hwy\"))"
   ]
  },
  {
   "cell_type": "markdown",
   "metadata": {},
   "source": [
    "## Not all data should be tidy\n",
    "\n",
    "Matrices, phylogenetic trees (although `ggtree` and `treeio` have tidy representations that help with annotating trees), etc."
   ]
  },
  {
   "cell_type": "markdown",
   "metadata": {},
   "source": [
    "# Transforming (Tidy) Data\n",
    "\n",
    "Now we know how to get tidy data. At this point we can already start visualizing our data. However in many cases we will need to further transform our data to narrow down variables and observations we are really interested in or to create new variables that are functions of our existing variables and data. This is known as **transforming** data. In the **tidyverse** the package for these operations is **dplyr**.\n",
    "\n",
    " * `filter()` to pick observations (rows) by their values\n",
    " * `arrange()` to reorder rows, default is by ascending value\n",
    " * `select()` to pick variables (columns) by their names\n",
    " * `mutate()` to create new variables with functions of existing variables\n",
    " * `summarise()` to collapes many values down to a single summary\n",
    " * `group_by()` to set up functions to operate on groups rather than the whole data set\n",
    " * `%>%` propagates the output from a function as input to another. eg: x %>% f(y) becomes f(x,y), and x %>% f(y) %>% g(z) becomes g(f(x,y),z).\n",
    " \n",
    "All functions have similar structure:\n",
    " 1. First argument is data frame\n",
    " 2. Next arguments describe what to do with data frame using variable names\n",
    " 3. Result is new data frame\n",
    " \n",
    "Will be working with data frame **mpg** for rest of workshop which comes with the **tidyverse** library.\n",
    "\n",
    "Can do everything here with Pandas in Python as well, or use specific implementations of **dplyr** in Python that go on top of Pandas with [**Dplython**](https://github.com/dodger487/dplython) or [**pandas-ply**](https://pythonhosted.org/pandas-ply/)."
   ]
  },
  {
   "cell_type": "code",
   "execution_count": null,
   "metadata": {},
   "outputs": [],
   "source": [
    "head(mpg)"
   ]
  },
  {
   "cell_type": "markdown",
   "metadata": {},
   "source": [
    "## `filter()` rows/observations\n",
    "\n",
    "As name suggests filters out rows. First argument is name of data frame, next arguments are expressions that filter the data frame."
   ]
  },
  {
   "cell_type": "code",
   "execution_count": null,
   "metadata": {},
   "outputs": [],
   "source": [
    "# filter out 2seater cars\n",
    "no_2seaters <- filter(mpg, class != \"2seater\")\n",
    "head(no_2seaters)"
   ]
  },
  {
   "cell_type": "code",
   "execution_count": null,
   "metadata": {},
   "outputs": [],
   "source": [
    "# filter out audis, chevys, and hondas\n",
    "mpg %>% filter(!manufacturer %in% c(\"audi\",\"chevrolet\",\"honda\")) %>% head"
   ]
  },
  {
   "cell_type": "markdown",
   "metadata": {},
   "source": [
    "## `arrange()` rows/observations\n",
    "\n",
    "Changes order of rows. First argument is name of data frame, next arguments are column names (or more complicated expressions) to order by. Default column ordering is by ascending order, can use `desc()` to do descending order. Missing values get sorted at the end regardless of what column ordering is chosen."
   ]
  },
  {
   "cell_type": "code",
   "execution_count": null,
   "metadata": {},
   "outputs": [],
   "source": [
    "# arrange/reorder mpg by class\n",
    "arrange(mpg, class) %>% head"
   ]
  },
  {
   "cell_type": "code",
   "execution_count": null,
   "metadata": {},
   "outputs": [],
   "source": [
    "# arrange/reorder data frame with 2seaters filtered out by class\n",
    "# 2seaters does not appear which is as it should be\n",
    "arrange(no_2seaters, class) %>% head"
   ]
  },
  {
   "cell_type": "markdown",
   "metadata": {},
   "source": [
    "What kinds of cars have the best highway and city gas mileage?"
   ]
  },
  {
   "cell_type": "code",
   "execution_count": null,
   "metadata": {},
   "outputs": [],
   "source": [
    "# arrange mpg so that first hwy mileage is by descending order, then cty mileage is by descending order\n",
    "arrange(mpg, desc(hwy), desc(cty)) %>% head"
   ]
  },
  {
   "cell_type": "markdown",
   "metadata": {},
   "source": [
    "Example of missing data getting placed at bottom."
   ]
  },
  {
   "cell_type": "code",
   "execution_count": null,
   "metadata": {},
   "outputs": [],
   "source": [
    "df <- data.frame(x=c(5,2,NA,6))\n",
    "df"
   ]
  },
  {
   "cell_type": "code",
   "execution_count": null,
   "metadata": {},
   "outputs": [],
   "source": [
    "# arrange df by ascending order, NA will be at bottom\n",
    "arrange(df, x)"
   ]
  },
  {
   "cell_type": "code",
   "execution_count": null,
   "metadata": {},
   "outputs": [],
   "source": [
    "# arrange df by descending order, NA will be at bottom\n",
    "arrange(df, desc(x))"
   ]
  },
  {
   "cell_type": "markdown",
   "metadata": {},
   "source": [
    "If you want to bring `NA` to the top, you can instead use `!is.na(x)` which evaluates as a boolean, so FALSE/TRUE. The df gets arranged by FALSE first, so NA goes to the top. However the rest of the values are unsorted since they will all return TRUE, although you can add more arguments to sort by the same column. This can be done for any other variable you want to use to rearrange with boolean expressions instead."
   ]
  },
  {
   "cell_type": "code",
   "execution_count": null,
   "metadata": {},
   "outputs": [],
   "source": [
    "# rest of the values are unsorted because they are all T for !is.na(x)\n",
    "arrange(df,!is.na(x))"
   ]
  },
  {
   "cell_type": "code",
   "execution_count": null,
   "metadata": {},
   "outputs": [],
   "source": [
    "# can arrange by x again to get ascending order\n",
    "arrange(df,!is.na(x),desc(x))"
   ]
  },
  {
   "cell_type": "markdown",
   "metadata": {},
   "source": [
    "## `select()` columns/variables\n",
    "\n",
    "Selects columns, which can be useful when you have hundreds or thousands of variables in order to narrow down to what variables you're actually interested in. First argument is name of data frame, subsequent arguments are columns to select. Can use `a:b` to select all columns between `a` and `b`, or use `-a` to select all columns *except* a."
   ]
  },
  {
   "cell_type": "code",
   "execution_count": null,
   "metadata": {},
   "outputs": [],
   "source": [
    "# select manufacturer, model, year, cty, hwy\n",
    "select(mpg, manufacturer, model, year, cty, hwy) %>% head"
   ]
  },
  {
   "cell_type": "code",
   "execution_count": null,
   "metadata": {},
   "outputs": [],
   "source": [
    "# select all columns model thru hwy\n",
    "select(mpg, model:hwy) %>% head\n",
    "head(mpg)"
   ]
  },
  {
   "cell_type": "code",
   "execution_count": null,
   "metadata": {},
   "outputs": [],
   "source": [
    "# select all columns except cyl thru drv and class\n",
    "select(mpg, -(cyl:drv), -class) %>% head"
   ]
  },
  {
   "cell_type": "markdown",
   "metadata": {},
   "source": [
    "## `mutate()` to add new variables or `transmute()` to keep only new variables\n",
    "\n",
    "Adds new columns that are functions of existing columns. First argument is name of data frame, next arguments are of the form `new_column_name = f(existing columns)`."
   ]
  },
  {
   "cell_type": "code",
   "execution_count": null,
   "metadata": {},
   "outputs": [],
   "source": [
    "# add a new column that takes average mileage between city and highway\n",
    "mutate(mpg, avg_mileage = (cty+hwy)/2) %>% head\n",
    "df <- data.frame(x=c(5,2,NA,6),y=c(NA,5,10,3))\n",
    "df\n",
    "#summarise(df, m=mean(x,y,na.rm=TRUE))\n",
    "#?mean"
   ]
  },
  {
   "cell_type": "code",
   "execution_count": null,
   "metadata": {},
   "outputs": [],
   "source": [
    "# keep only average mileage between city and highway\n",
    "transmute(mpg,cty,avg_mileage=(cty+hwy)/2) %>% head"
   ]
  },
  {
   "cell_type": "markdown",
   "metadata": {},
   "source": [
    "## `summarise()` and `group_by()` for grouped summaries\n",
    "\n",
    "`summarise()` collapses a data frame into a single row, and `group_by()` changes analysis from entire data frame into individual groups."
   ]
  },
  {
   "cell_type": "code",
   "execution_count": null,
   "metadata": {},
   "outputs": [],
   "source": [
    "# get average mileage grouped by engine cylinder\n",
    "m <- mutate(mpg, avg_mileage=(cty+hwy)/2)\n",
    "# behavior is actually different in R/RStudio compared to notebooks\n",
    "m %>% group_by(cyl) %>%\n",
    "    summarise(avg=mean(avg_mileage)) %>%\n",
    "    head"
   ]
  },
  {
   "cell_type": "markdown",
   "metadata": {},
   "source": [
    "**Note:** If you look at the output of `group_by` in R/RStudio you will actually be able to see what your groupings are as well as how many of them you have. For example if we did `group_by(mpg, cyl)` the output would include `cyl [4]` which shows that our grouping is by `cyl` and there are 4 groups. Jupyter notebook doesn't display this for reasons having to do with [how data frames are outputted](https://github.com/IRkernel/repr/issues/113). Some other differences exist between how certain objects from **tidyverse** are displayed as well."
   ]
  },
  {
   "cell_type": "code",
   "execution_count": null,
   "metadata": {},
   "outputs": [],
   "source": [
    "group_by(m, drv) %>%\n",
    "    summarise(avg=mean(avg_mileage))"
   ]
  },
  {
   "cell_type": "code",
   "execution_count": null,
   "metadata": {},
   "outputs": [],
   "source": [
    "# df after group_by would show that we have 9 groups\n",
    "drv_cyl <- group_by(m, drv, cyl) %>%\n",
    "    summarise(avg=mean(avg_mileage)) %>%\n",
    "    arrange(desc(avg))\n",
    "drv_cyl"
   ]
  },
  {
   "cell_type": "markdown",
   "metadata": {},
   "source": [
    "Can also run `ungroup` to ungroup your observations."
   ]
  },
  {
   "cell_type": "code",
   "execution_count": null,
   "metadata": {},
   "outputs": [],
   "source": [
    "drv_cyl %>% summarise(max=max(avg))"
   ]
  },
  {
   "cell_type": "code",
   "execution_count": null,
   "metadata": {},
   "outputs": [],
   "source": [
    "ungroup(drv_cyl) %>% summarise(max=max(avg))"
   ]
  },
  {
   "cell_type": "markdown",
   "metadata": {},
   "source": [
    "# Back to Visualizing Data\n",
    "\n",
    "Basic syntax of ggplot:\n",
    "```\n",
    "ggplot(data=<DATA>) +\n",
    "    <GEOM_FUNCTION>(mapping=aes(<MAPPINGS>)\n",
    "```\n",
    "\n",
    "## The grammar of graphics\n",
    "\n",
    "**ggplot2** employs what is known as the *grammar of graphics*, which allows user to create plots by explicitly mapping data to visual objects and properties that make up the plot. There is a Python clone of **ggplot2** called [**plotnine**](https://github.com/has2k1/plotnine) that is pretty nice and far better than matplotlib. Equivalent in Julia is [**Gadfly.jl**](https://github.com/GiovineItalia/Gadfly.jl)."
   ]
  },
  {
   "cell_type": "code",
   "execution_count": null,
   "metadata": {
    "scrolled": true
   },
   "outputs": [],
   "source": [
    "head(mpg) # automatically loaded when you load tidyverse"
   ]
  },
  {
   "cell_type": "code",
   "execution_count": null,
   "metadata": {
    "scrolled": true
   },
   "outputs": [],
   "source": [
    "ggplot(mpg) + geom_point(mapping=aes(x=displ,y=hwy))"
   ]
  },
  {
   "cell_type": "markdown",
   "metadata": {},
   "source": [
    "## `<MAPPINGS>`\n",
    "\n",
    "```\n",
    "ggplot(data=<DATA>) +\n",
    "    <GEOM_FUNCTION>(mapping=aes(<MAPPINGS>)\n",
    "```\n",
    "\n",
    "Visual property of objects in plot, i.e. size, shape, color. Can display points from other variables (in this case class) in different ways by changing value of aesthetic properties. These are known as **levels**, which is done in order to distinguish aesthetic values from data values."
   ]
  },
  {
   "cell_type": "code",
   "execution_count": null,
   "metadata": {},
   "outputs": [],
   "source": [
    "head(mpg)"
   ]
  },
  {
   "cell_type": "code",
   "execution_count": null,
   "metadata": {},
   "outputs": [],
   "source": [
    "p1 <- ggplot(data=mpg) + geom_point(mapping=aes(x=displ,y=hwy,color=class))\n",
    "p2 <- ggplot(data=mpg) + geom_point(mapping=aes(x=displ,y=hwy,shape=class))\n",
    "p3 <- ggplot(data=mpg) + geom_point(mapping=aes(x=displ,y=hwy,size=class))\n",
    "p4 <- ggplot(data=mpg) + geom_point(mapping=aes(x=displ,y=hwy,alpha=class))\n",
    "grid.arrange(p1,p2,p3,p4,nrow=2)"
   ]
  },
  {
   "cell_type": "markdown",
   "metadata": {},
   "source": [
    "### Levels\n",
    "\n",
    "**ggplot2** automatically assigns a unique level of an aesthetic to a unique value of the variable. This process is known as scaling. It will also automatically select a scale to use with the aesthetic (i.e. continuous or discrete) as well as add a legend explaining the mapping between levels and values. That's why in the size mapping there's no shape for suv, and why the following two pieces of code do different things:"
   ]
  },
  {
   "cell_type": "code",
   "execution_count": null,
   "metadata": {},
   "outputs": [],
   "source": [
    "# for color property, all data points were assigned to 'blue', therefore ggplot2 assigns a single level to all of the\n",
    "# points, which is red\n",
    "ggplot(data=mpg) + geom_point(mapping=aes(x=displ,y=hwy,color='blue'))"
   ]
  },
  {
   "cell_type": "code",
   "execution_count": null,
   "metadata": {},
   "outputs": [],
   "source": [
    "# here color is placed outside aesthetic mapping, so ggplot2 understands that we want color of points to be blue\n",
    "ggplot(data=mpg) + geom_point(mapping=aes(x=displ,y=hwy),color='blue')"
   ]
  },
  {
   "cell_type": "code",
   "execution_count": null,
   "metadata": {},
   "outputs": [],
   "source": [
    "# cty is a continuous variable, so when mapped to color we get a gradient with bins instead\n",
    "ggplot(data=mpg) + geom_point(mapping=aes(x=displ,y=hwy,color=cty))"
   ]
  },
  {
   "cell_type": "markdown",
   "metadata": {},
   "source": [
    "### Continuous vs discrete scales\n",
    "\n",
    "Generally continuous scales get chosen for numerical data and discrete scales are chosen for categorical data. If your data is numeric but in discrete categories you may have to use `as.factor()` in order to get proper levels."
   ]
  },
  {
   "cell_type": "code",
   "execution_count": null,
   "metadata": {},
   "outputs": [],
   "source": [
    "# if we try to map cyl to shape we get an error because shape is only for discrete variables\n",
    "# even though we only have cyl=4,5,6 or 8\n",
    "ggplot(data=mpg) + geom_point(mapping=aes(x=displ,y=hwy,shape=cyl))"
   ]
  },
  {
   "cell_type": "code",
   "execution_count": null,
   "metadata": {},
   "outputs": [],
   "source": [
    "# will transform into categorical variable with levels\n",
    "as.factor(mpg$cyl)"
   ]
  },
  {
   "cell_type": "code",
   "execution_count": null,
   "metadata": {},
   "outputs": [],
   "source": [
    "# all is well when we use as.factor()\n",
    "ggplot(data=mpg) + geom_point(mapping=aes(x=displ,y=hwy,shape=as.factor(cyl)))"
   ]
  },
  {
   "cell_type": "markdown",
   "metadata": {},
   "source": [
    "Note that this means x and y are aesthetic mappings as well. In fact without them you will get an error."
   ]
  },
  {
   "cell_type": "code",
   "execution_count": null,
   "metadata": {},
   "outputs": [],
   "source": [
    "ggplot(data=mpg) + geom_point()"
   ]
  },
  {
   "cell_type": "markdown",
   "metadata": {},
   "source": [
    "## `<GEOM_FUNCTION>`\n",
    "\n",
    "```\n",
    "ggplot(data=<DATA>) +\n",
    "    <GEOM_FUNCTION>(mapping=aes(<MAPPINGS>)\n",
    "```\n",
    "\n",
    "**geom** geometrical object plot uses to represent data. Bar charts use bar geoms, line charts use line geoms, boxplots, etc. Scatterplots use point geoms. Full list of geoms provided with **ggplot2** can be seen in [ggplot2 reference](https://ggplot2.tidyverse.org/reference/#section-layer-geoms). Also exist other geoms created by [other packages](http://www.ggplot2-exts.org/gallery/).\n",
    "\n",
    "Every geom function in ggplot2 takes a `mapping` argument with specific aesthetic mappings that are possible. Not every aesthetic will work with every geom. For example, can set shape of a point, but not shape of a line. However, can set linetype of a line."
   ]
  },
  {
   "cell_type": "code",
   "execution_count": null,
   "metadata": {},
   "outputs": [],
   "source": [
    "ggplot(data = mpg) +\n",
    "  geom_smooth(mapping = aes(x = displ, y = hwy))"
   ]
  },
  {
   "cell_type": "code",
   "execution_count": null,
   "metadata": {},
   "outputs": [],
   "source": [
    "# data has been separated into three lines based on their drivetrain: 4 (4wd), f (front), r (rear)\n",
    "ggplot(data = mpg) +\n",
    "  geom_smooth(mapping = aes(x = displ, y = hwy, linetype = as.factor(cyl)))"
   ]
  },
  {
   "cell_type": "markdown",
   "metadata": {},
   "source": [
    "Can display multiple geoms on same plot just by adding them"
   ]
  },
  {
   "cell_type": "code",
   "execution_count": null,
   "metadata": {},
   "outputs": [],
   "source": [
    "ggplot(data = mpg) + \n",
    "  geom_point(mapping = aes(x = displ, y = hwy, color=drv)) +\n",
    "  geom_smooth(mapping = aes(x = displ, y = hwy, color=drv, linetype=drv))"
   ]
  },
  {
   "cell_type": "markdown",
   "metadata": {},
   "source": [
    "Geoms like `geom_smooth()` use single geometric object to display multiple rows of data. If you don't necessarily want to add other distinguishing features to the geom like color, can use `group` aesthetic (for a categorical variable) to draw multiple objects."
   ]
  },
  {
   "cell_type": "code",
   "execution_count": null,
   "metadata": {},
   "outputs": [],
   "source": [
    "ggplot(data=mpg) +\n",
    "    geom_smooth(mapping=aes(x=displ,y=hwy,group=drv))"
   ]
  },
  {
   "cell_type": "markdown",
   "metadata": {},
   "source": [
    "### Global mappings vs local mappings\n",
    "\n",
    "`ggplot()` function contains *global* mapping, while each geom has a local mapping\n",
    "\n",
    " * `lm` from **stats** for linear models (you can also fit other models)"
   ]
  },
  {
   "cell_type": "code",
   "execution_count": null,
   "metadata": {},
   "outputs": [],
   "source": [
    "# global mapping of displ and hwy creates x and yaxis\n",
    "ggplot(data=mpg, mapping=aes(x=displ,y=hwy))"
   ]
  },
  {
   "cell_type": "code",
   "execution_count": null,
   "metadata": {},
   "outputs": [],
   "source": [
    "# mapping color to class for point geom while using global x and y mappings\n",
    "ggplot(data=mpg, mapping=aes(x=displ,y=hwy)) + geom_point(mapping=aes(color=class))"
   ]
  },
  {
   "cell_type": "code",
   "execution_count": null,
   "metadata": {},
   "outputs": [],
   "source": [
    "# geom_smooth doesn't need any mapping arguments if using global\n",
    "ggplot(data=mpg, mapping=aes(x=displ,y=hwy)) +\n",
    "    geom_point(mapping=aes(color=class))+\n",
    "    geom_smooth()"
   ]
  },
  {
   "cell_type": "code",
   "execution_count": null,
   "metadata": {},
   "outputs": [],
   "source": [
    "# second geom_smooth uses same x and y mapping\n",
    "# but mapping comes from no_2seaters data (from Transform section) instead\n",
    "ggplot(data = mpg, mapping = aes(x = displ, y = hwy)) + \n",
    "  geom_point(mapping = aes(color = class)) + \n",
    "  geom_smooth() +\n",
    "  geom_smooth(data = no_2seaters)"
   ]
  },
  {
   "cell_type": "markdown",
   "metadata": {},
   "source": [
    "## More syntax\n",
    "\n",
    "```{r}\n",
    "ggplot(data = <DATA>) + \n",
    "  <GEOM_FUNCTION>(\n",
    "     mapping = aes(<MAPPINGS>),\n",
    "     stat = <STAT>, \n",
    "     position = <POSITION>\n",
    "  ) +\n",
    "  <COORDINATE_FUNCTION> +\n",
    "  <FACET_FUNCTION>\n",
    "```"
   ]
  },
  {
   "cell_type": "markdown",
   "metadata": {},
   "source": [
    "## Facets\n",
    "\n",
    "Subplots displaying one subset of data.\n",
    "\n",
    " * `facet_wrap()` for a single variable.\n",
    " * `facet_grid()` for along 2 variables."
   ]
  },
  {
   "cell_type": "code",
   "execution_count": null,
   "metadata": {
    "scrolled": false
   },
   "outputs": [],
   "source": [
    "ggplot(data=mpg) +\n",
    "    geom_point(mapping=aes(x=displ,y=hwy)) +\n",
    "    facet_wrap(~ class, nrow=2)"
   ]
  },
  {
   "cell_type": "code",
   "execution_count": null,
   "metadata": {},
   "outputs": [],
   "source": [
    "ggplot(data=mpg) +\n",
    "    geom_point(mapping=aes(x=displ,y=hwy)) +\n",
    "    facet_wrap(~ class, nrow=3)"
   ]
  },
  {
   "cell_type": "code",
   "execution_count": null,
   "metadata": {},
   "outputs": [],
   "source": [
    "ggplot(data=mpg) +\n",
    "    geom_point(mapping=aes(x=displ,y=hwy)) +\n",
    "    facet_wrap(~ class, ncol=4)"
   ]
  },
  {
   "cell_type": "code",
   "execution_count": null,
   "metadata": {
    "scrolled": true
   },
   "outputs": [],
   "source": [
    "# some facets are empty because no observations have those combos\n",
    "ggplot(data = mpg) + \n",
    "  geom_point(mapping = aes(x = displ, y = hwy)) + \n",
    "  facet_grid(drv ~ cyl)"
   ]
  },
  {
   "cell_type": "markdown",
   "metadata": {},
   "source": [
    "## Stats\n",
    "\n",
    "```{r}\n",
    "ggplot(data = <DATA>) + \n",
    "  <GEOM_FUNCTION>(\n",
    "     mapping = aes(<MAPPINGS>),\n",
    "     stat = <STAT>, \n",
    "     position = <POSITION>\n",
    "  ) +\n",
    "  <COORDINATE_FUNCTION> +\n",
    "  <FACET_FUNCTION>\n",
    "```\n",
    "\n",
    "Algorithm used to calculate new values for a graph. Each geom object has a default stat, and each stat has a default geom. Geoms like `geom_point()` will leave data as is, known as `stat_identity()`. Graphs like bar charts and histograms will bin your data and compute bin counts, known as `stat_count()`. Can see full list of stats at [ggplot2 reference](https://ggplot2.tidyverse.org/reference/) under both Layer: geoms and Layer: stats."
   ]
  },
  {
   "cell_type": "code",
   "execution_count": null,
   "metadata": {},
   "outputs": [],
   "source": [
    "ggplot(data=mpg) +\n",
    "    geom_bar(mapping=aes(x=class))"
   ]
  },
  {
   "cell_type": "markdown",
   "metadata": {},
   "source": [
    "Since each stat comes with a default geom, can use stat to create geoms on plots as well."
   ]
  },
  {
   "cell_type": "code",
   "execution_count": null,
   "metadata": {},
   "outputs": [],
   "source": [
    "ggplot(data=mpg) +\n",
    "    stat_count(mapping=aes(x=class))\n",
    "?geom_bar"
   ]
  },
  {
   "cell_type": "code",
   "execution_count": null,
   "metadata": {},
   "outputs": [],
   "source": [
    "# because stat_count() computes count and prop, can use those as variables for mapping as well\n",
    "ggplot(data=mpg) + geom_bar(mapping=aes(x=class, y=..prop..,group=1))"
   ]
  },
  {
   "cell_type": "code",
   "execution_count": null,
   "metadata": {},
   "outputs": [],
   "source": [
    "# stat_summary is associated with geom_pointrange\n",
    "# default is to compute mean and standard error\n",
    "ggplot(data = mpg) + \n",
    "  stat_summary(mapping = aes(x=class,y=hwy))"
   ]
  },
  {
   "cell_type": "code",
   "execution_count": null,
   "metadata": {},
   "outputs": [],
   "source": [
    "# can change stat_summary to compute median and min/max instead\n",
    "ggplot(data = mpg) +\n",
    "  stat_summary(\n",
    "    mapping = aes(x = class, y = hwy),\n",
    "    fun.ymin = min,\n",
    "    fun.ymax = max,\n",
    "    fun.y = median\n",
    "  )"
   ]
  },
  {
   "cell_type": "markdown",
   "metadata": {},
   "source": [
    "## Position adjustments\n",
    "\n",
    "```{r}\n",
    "ggplot(data = <DATA>) + \n",
    "  <GEOM_FUNCTION>(\n",
    "     mapping = aes(<MAPPINGS>),\n",
    "     stat = <STAT>, \n",
    "     position = <POSITION>\n",
    "  ) +\n",
    "  <COORDINATE_FUNCTION> +\n",
    "  <FACET_FUNCTION>\n",
    "```\n",
    "\n",
    "Each geom also comes with a default **position adjustment** specified by `position` argument. For geoms like `geom_point()` it is \"identity\" which is position as is.\n",
    "\n",
    "Specifically for bar charts, have fill aesthetic. If fill aesthetic gets mapped to another variable, bars are automatically stacked under the \"stack\" position. Can see [list of positions](https://ggplot2.tidyverse.org/reference/#section-layer-position-adjustment) at ggplot2 reference."
   ]
  },
  {
   "cell_type": "code",
   "execution_count": null,
   "metadata": {},
   "outputs": [],
   "source": [
    "p1 <- ggplot(data = mpg, mapping=aes(x=class,fill=as.factor(cyl)))\n",
    "p1 + geom_bar()"
   ]
  },
  {
   "cell_type": "code",
   "execution_count": null,
   "metadata": {},
   "outputs": [],
   "source": [
    "# position = identity will place each object exactly where it falls in context of graph.\n",
    "# Not useful for bar charts, better for scatterplots.\n",
    "p1 + geom_bar(position=\"identity\", alpha=0.2)"
   ]
  },
  {
   "cell_type": "code",
   "execution_count": null,
   "metadata": {},
   "outputs": [],
   "source": [
    "# position = fill will make bars same height\n",
    "p1 + geom_bar(position=\"fill\")"
   ]
  },
  {
   "cell_type": "code",
   "execution_count": null,
   "metadata": {},
   "outputs": [],
   "source": [
    "# position = \"dodge\" places objects directly beside one another. Easier to compare individual values.\n",
    "p1 + geom_bar(position=\"dodge\")"
   ]
  },
  {
   "cell_type": "markdown",
   "metadata": {},
   "source": [
    "For `geom_point` one possible position is \"jitter\", which will add a small amount of random noise to each point. This spreads points out so that it's unlikely for points to overlap and therefore get plotted over each other. For example it's possible that majority of points are actually one combination of `hwy` and `displ` but they all get plotted at the exact same point so you can't tell. For very large datasets can help prevent overplotting to better see where mass of plot is or trends."
   ]
  },
  {
   "cell_type": "code",
   "execution_count": null,
   "metadata": {},
   "outputs": [],
   "source": [
    "# seems quite uniform which suggests multiple observations with same value of cty/hwy\n",
    "# creating overlapping points\n",
    "ggplot(data = mpg, mapping = aes(x = cty, y = hwy)) + \n",
    "  geom_point()"
   ]
  },
  {
   "cell_type": "code",
   "execution_count": null,
   "metadata": {},
   "outputs": [],
   "source": [
    "# definitely the case\n",
    "ggplot(data = mpg, mapping = aes(x = cty, y = hwy)) + \n",
    "  geom_point(position=\"jitter\")"
   ]
  },
  {
   "cell_type": "markdown",
   "metadata": {},
   "source": [
    "## Coordinate systems\n",
    "\n",
    "```{r}\n",
    "ggplot(data = <DATA>) + \n",
    "  <GEOM_FUNCTION>(\n",
    "     mapping = aes(<MAPPINGS>),\n",
    "     stat = <STAT>, \n",
    "     position = <POSITION>\n",
    "  ) +\n",
    "  <COORDINATE_FUNCTION> +\n",
    "  <FACET_FUNCTION>\n",
    "```\n",
    "\n",
    "Default coordinate system is Cartesian.\n",
    "\n",
    " * `coord_flip()` switches x and y axes.\n",
    " * `coord_quickmap()` sets aspect ratio for maps.\n",
    " * `coord_polar()` sets polar coordinates."
   ]
  },
  {
   "cell_type": "code",
   "execution_count": null,
   "metadata": {},
   "outputs": [],
   "source": [
    "p <- ggplot(data = mpg, mapping = aes(x = class, y = hwy))\n",
    "p + geom_boxplot()"
   ]
  },
  {
   "cell_type": "code",
   "execution_count": null,
   "metadata": {},
   "outputs": [],
   "source": [
    "# flipping coordinates\n",
    "p + geom_boxplot() + coord_flip()"
   ]
  },
  {
   "cell_type": "code",
   "execution_count": null,
   "metadata": {},
   "outputs": [],
   "source": [
    "# can reorder x axis by lowest to highest median hwy mileage\n",
    "# allows easier comparisons\n",
    "ggplot(data = mpg, mapping = aes(x = reorder(class,hwy,FUN=median), y = hwy)) + \n",
    "  geom_boxplot() +\n",
    "  coord_flip()"
   ]
  },
  {
   "cell_type": "code",
   "execution_count": null,
   "metadata": {},
   "outputs": [],
   "source": [
    "# Setting aspect ratio correctly\n",
    "nz <- map_data(\"nz\")\n",
    "\n",
    "ggplot(nz, aes(long, lat, group = group)) +\n",
    "  geom_polygon(fill = \"white\", colour = \"black\")\n",
    "\n",
    "ggplot(nz, aes(long, lat, group = group)) +\n",
    "  geom_polygon(fill = \"white\", colour = \"black\") +\n",
    "  coord_quickmap()"
   ]
  },
  {
   "cell_type": "code",
   "execution_count": null,
   "metadata": {},
   "outputs": [],
   "source": [
    "# polar coordinates\n",
    "bar <- ggplot(data = mpg) + \n",
    "  geom_bar(\n",
    "    mapping = aes(x = class, fill = as.factor(cyl)), \n",
    "    show.legend = FALSE,\n",
    "    width = 1\n",
    "  ) + \n",
    "  theme(aspect.ratio = 1) +\n",
    "  labs(x = NULL, y = NULL)\n",
    "\n",
    "p1 <- bar + coord_flip()\n",
    "p2 <- bar + coord_polar()\n",
    "grid.arrange(p1,p2, nrow=1)"
   ]
  },
  {
   "cell_type": "markdown",
   "metadata": {},
   "source": [
    "# Summary\n",
    "\n",
    "Now that we've gone through tidying, transforming, and visualizing data let's review all of the different functions we've used and in some cases learned the inner workings of:\n",
    "\n",
    "## Tidying\n",
    "\n",
    " * `gather()`\n",
    " * `spread()`\n",
    " * `separate()`\n",
    " * `unite()`\n",
    " * `%>%` propagates the output from a function as input to another. eg: x %>% f(y) becomes f(x,y), and x %>% f(y) %>% g(z) becomes g(f(x,y),z).\n",
    " \n",
    "## Transforming\n",
    "\n",
    " * `filter()` to pick observations (rows) by their values\n",
    " * `arrange()` to reorder rows, default is by ascending value\n",
    " * `select()` to pick variables (columns) by their names\n",
    " * `mutate()` to create new variables with functions of existing variables\n",
    " * `summarise()` to collapes many values down to a single summary\n",
    " * `group_by()` to set up functions to operate on groups rather than the whole data set\n",
    " \n",
    "## Visualizing\n",
    "\n",
    " * `ggplot` - global data and mappings\n",
    " * `geom_point` - geom for scatterplots\n",
    " * `geom_smooth` - geom for regressions\n",
    " * `geom_pointrange` - geom for vertical intervals defined by `x`, `y`, `ymin`, and `ymax`\n",
    " * `geom_bar` - geom for barcharts\n",
    " * `geom_boxplot` - geom for boxplots\n",
    " * `geom_polygon` - geom for polygons\n",
    " * `aes(color)` - color mapping\n",
    " * `aes(shape)` - shape mapping\n",
    " * `aes(size)` - size mapping\n",
    " * `aes(alpha)` - transparency mapping\n",
    " * `as.factor()` - transforming numerical values to categorical values with levels\n",
    " * `facet_grid`\n",
    " * `facet_wrap`\n",
    " * `stat_count` - default stat for barcharts, bins by x and counts\n",
    " * `stat_identity` - default stat for scatterplots, leaves data as is\n",
    " * `stat_summary` - default stat for pointrange, by default computes mean and se of y by x\n",
    " * `position=\"identity\"`\n",
    " * `position=\"stacked\"`\n",
    " * `position=\"fill\"`\n",
    " * `position=\"dodge\"`\n",
    " * `position=\"jitter\"`\n",
    " * `coord_flip`\n",
    " * `coord_map`\n",
    " * `coord_polar`"
   ]
  },
  {
   "cell_type": "markdown",
   "metadata": {},
   "source": [
    "# Publication Quality Graphs\n",
    "\n",
    "Last piece with some additional functions to learn...\n",
    "\n",
    "## Labels\n",
    "\n",
    "`labs()` to add most kinds of labels: title, subtitle, captions, x-axis, y-axis, legend, etc."
   ]
  },
  {
   "cell_type": "code",
   "execution_count": null,
   "metadata": {},
   "outputs": [],
   "source": [
    "ggplot(mpg, aes(displ, hwy)) +\n",
    "  geom_point(aes(color = class)) +\n",
    "  geom_smooth(se = FALSE) +\n",
    "  labs(\n",
    "    title = \"Fuel efficiency generally\\n decreases with engine size\",\n",
    "    subtitle = \"Two seaters (sports cars) are an exception because of their light weight\",\n",
    "    caption = \"Data from fueleconomy.gov\",\n",
    "    x = \"Engine displacement (L)\",\n",
    "    y = \"Highway fuel economy (mpg)\",\n",
    "    color = \"Car type\"\n",
    "  )"
   ]
  },
  {
   "cell_type": "markdown",
   "metadata": {},
   "source": [
    "## Annotations\n",
    "\n",
    "Can use `geom_text()` to add text labesls on the plot."
   ]
  },
  {
   "cell_type": "code",
   "execution_count": null,
   "metadata": {},
   "outputs": [],
   "source": [
    "best_in_class <- mpg %>%\n",
    "  group_by(class) %>%\n",
    "  filter(row_number(desc(hwy)) == 1)\n",
    "\n",
    "ggplot(mpg, aes(displ, hwy)) +\n",
    "  geom_point(aes(colour = class)) +\n",
    "  geom_text(aes(label = model), data = best_in_class)"
   ]
  },
  {
   "cell_type": "code",
   "execution_count": null,
   "metadata": {},
   "outputs": [],
   "source": [
    "ggplot(mpg, aes(displ, hwy)) +\n",
    "  geom_point(aes(colour = class)) +\n",
    "  ggrepel::geom_label_repel(aes(label = model), data = best_in_class) +\n",
    "  labs(\n",
    "    caption = \"Data from fueleconomy.gov\",\n",
    "    x = \"Engine displacement (L)\",\n",
    "    y = \"Highway fuel economy (mpg)\",\n",
    "    colour = \"Car type\"\n",
    "  ) +\n",
    "  geom_point(size = 3, shape = 1, data = best_in_class)"
   ]
  },
  {
   "cell_type": "markdown",
   "metadata": {},
   "source": [
    "## Scales\n",
    "\n",
    " * `breaks`: For the position of ticks\n",
    " * `labels`: For the text label associated with each tick.\n",
    " * Default scale is x continuous, y continuous but can also do x logarithmic, y logarithmic, change color scales."
   ]
  },
  {
   "cell_type": "code",
   "execution_count": null,
   "metadata": {},
   "outputs": [],
   "source": [
    "ggplot(mpg, aes(displ, hwy)) +\n",
    "  geom_point() +\n",
    "  scale_y_continuous(breaks = seq(15, 40, by = 5))"
   ]
  },
  {
   "cell_type": "code",
   "execution_count": null,
   "metadata": {},
   "outputs": [],
   "source": [
    "ggplot(mpg, aes(displ, hwy)) +\n",
    "  geom_point() +\n",
    "  scale_x_continuous(labels = NULL) +\n",
    "  scale_y_continuous(labels = NULL)"
   ]
  },
  {
   "cell_type": "code",
   "execution_count": null,
   "metadata": {},
   "outputs": [],
   "source": [
    "p1 <- ggplot(diamonds, aes(carat, price)) +\n",
    "  geom_bin2d()\n",
    "ggplot(diamonds, aes(carat, price)) +\n",
    "  geom_bin2d() + \n",
    "  scale_x_log10() + \n",
    "  scale_y_log10()\n",
    "\n",
    "ggplot(diamonds, aes(log10(carat), log10(price))) +\n",
    "  geom_bin2d()"
   ]
  },
  {
   "cell_type": "code",
   "execution_count": null,
   "metadata": {},
   "outputs": [],
   "source": [
    "ggplot(mpg, aes(displ, hwy)) +\n",
    "  geom_point(aes(color = drv))\n",
    "\n",
    "ggplot(mpg, aes(displ, hwy)) +\n",
    "  geom_point(aes(color = drv)) +\n",
    "  scale_colour_brewer(palette = \"Set1\")"
   ]
  },
  {
   "cell_type": "code",
   "execution_count": null,
   "metadata": {},
   "outputs": [],
   "source": [
    "ggplot(mpg, aes(displ, hwy)) +\n",
    "  geom_point(aes(color = drv)) +\n",
    "  scale_colour_manual(values=c(`4`=\"red\",f=\"blue\",r=\"blue\"))"
   ]
  },
  {
   "cell_type": "markdown",
   "metadata": {},
   "source": [
    "## Legend positioning\n",
    "\n",
    "`theme(legend.position)` to control legend position. `guides()` with `guide_legened()` or `guide_colourbar()` for legend display."
   ]
  },
  {
   "cell_type": "code",
   "execution_count": null,
   "metadata": {},
   "outputs": [],
   "source": [
    "base <- ggplot(mpg, aes(displ, hwy)) +\n",
    "  geom_point(aes(colour = class))\n",
    "\n",
    "#p1 <- base + theme(legend.position = \"left\")\n",
    "#p2 <- base + theme(legend.position = \"top\")\n",
    "#p3 <- base + theme(legend.position = \"bottom\")\n",
    "#p4 <- base + theme(legend.position = \"right\")\n",
    "\n",
    "#?theme\n",
    "base + theme(text=element_text(color=\"blue\",size=4))\n",
    "\n",
    "#grid.arrange(p1,p2,p3,p4, nrow=2)"
   ]
  },
  {
   "cell_type": "code",
   "execution_count": null,
   "metadata": {},
   "outputs": [],
   "source": [
    "ggplot(mpg, aes(displ, hwy)) +\n",
    "  geom_point(aes(colour = class)) +\n",
    "  geom_smooth(se = FALSE) +\n",
    "  theme(legend.position = \"bottom\") +\n",
    "  guides(colour = guide_legend(nrow = 1, override.aes = list(size = 4)))"
   ]
  },
  {
   "cell_type": "markdown",
   "metadata": {},
   "source": [
    "## Zooming\n",
    "\n",
    "Three ways to control plot limits:\n",
    " * Adjusting what data are plotted\n",
    " * Setting limits in each scale\n",
    " * Setting `xlim` and `ylim` in `coord_cartesian()`"
   ]
  },
  {
   "cell_type": "code",
   "execution_count": null,
   "metadata": {},
   "outputs": [],
   "source": [
    "# asetting xlim and ylim in coord_cartesian\n",
    "ggplot(mpg, mapping = aes(displ, hwy)) +\n",
    "  geom_point(aes(color = class)) +\n",
    "  geom_smooth() +\n",
    "  coord_cartesian(xlim = c(5, 7), ylim = c(10, 30))"
   ]
  },
  {
   "cell_type": "code",
   "execution_count": null,
   "metadata": {},
   "outputs": [],
   "source": [
    "# adjusting what data are plotted\n",
    "# however geom_smooth will plot regression over subsetted data\n",
    "filter(mpg, displ >= 5, displ <= 7, hwy >= 10, hwy <= 30) %>%\n",
    "  ggplot(aes(displ, hwy)) +\n",
    "  geom_point(aes(color = class)) +\n",
    "  geom_smooth()"
   ]
  },
  {
   "cell_type": "code",
   "execution_count": null,
   "metadata": {},
   "outputs": [],
   "source": [
    "# 2 plots use subsetted data therefore have different scales along hwy and displ\n",
    "suv <- mpg %>% filter(class == \"suv\")\n",
    "compact <- mpg %>% filter(class == \"compact\")\n",
    "ggplot(suv, aes(displ, hwy, colour = drv)) +\n",
    "  geom_point()\n",
    "\n",
    "ggplot(compact, aes(displ, hwy, colour = drv)) +\n",
    "  geom_point()"
   ]
  },
  {
   "cell_type": "code",
   "execution_count": null,
   "metadata": {},
   "outputs": [],
   "source": [
    "# can set limits in each scale\n",
    "x_scale <- scale_x_continuous(limits = range(mpg$displ))\n",
    "y_scale <- scale_y_continuous(limits = range(mpg$hwy))\n",
    "col_scale <- scale_colour_discrete(limits = unique(mpg$drv))\n",
    "\n",
    "ggplot(suv, aes(displ, hwy, colour = drv)) +\n",
    "  geom_point() +\n",
    "  x_scale +\n",
    "  y_scale +\n",
    "  col_scale\n",
    "\n",
    "ggplot(compact, aes(displ, hwy, colour = drv)) +\n",
    "  geom_point() +\n",
    "  x_scale +\n",
    "  y_scale +\n",
    "  col_scale"
   ]
  },
  {
   "cell_type": "markdown",
   "metadata": {},
   "source": [
    "## Themes\n",
    "\n",
    "**ggplot2** has 8 themes by default, can get more in other packages like **ggthemes**. Generally prefer `theme_classic()`."
   ]
  },
  {
   "cell_type": "code",
   "execution_count": null,
   "metadata": {},
   "outputs": [],
   "source": [
    "base <- ggplot(mpg, aes(displ, hwy)) +\n",
    "  geom_point(aes(color = class)) +\n",
    "  geom_smooth(se = FALSE)\n",
    "\n",
    "p1 <- base + theme_bw()\n",
    "p2 <- base + theme_light()\n",
    "p3 <- base + theme_classic()\n",
    "p4 <- base + theme_linedraw()\n",
    "p5 <- base + theme_dark()\n",
    "p6 <- base + theme_minimal()\n",
    "p7 <- base + theme_void()\n",
    "\n",
    "grid.arrange(base,p1,p2,p3,p4,p5,p6,p7,nrow=4)"
   ]
  },
  {
   "cell_type": "markdown",
   "metadata": {},
   "source": [
    "## Saving your plots\n",
    "\n",
    " * `ggsave()` will save most recent plot to disk\n",
    " * `tiff()` will save next plot to disk\n",
    " * Other functions like `postscript()` for eps files, etc.\n",
    " * All can take `width`, `height`, `fonts`, `pointsize`, `res` (resolution) arguments"
   ]
  },
  {
   "cell_type": "code",
   "execution_count": null,
   "metadata": {},
   "outputs": [],
   "source": [
    "p1 <- ggplot(mpg, aes(displ, hwy)) +\n",
    "  geom_point(aes(color = class)) +\n",
    "  geom_smooth(se = FALSE) +\n",
    "  labs(x=\"Engine displacement (L)\",y=\"Heighway fuel economy (mpg)\",\n",
    "    title = \"Fuel efficiency generally decreases with engine size\",\n",
    "    caption = \"Data from fueleconomy.gov\",\n",
    "    subtitle = \"Two seaters (sports cars) are an exception because of their light weight\",\n",
    "    colour = \"Car type\"\n",
    "  ) + x_scale + y_scale + theme_classic()\n",
    "p1\n",
    "ggsave(\"my_plot.pdf\")\n",
    "\n",
    "tiff(\"my_plot.tiff\",width=7,height=5,units=\"in\",pointsize=8,res=350)\n",
    "p1\n",
    "dev.off()"
   ]
  },
  {
   "cell_type": "code",
   "execution_count": null,
   "metadata": {},
   "outputs": [],
   "source": [
    "sessionInfo()"
   ]
  },
  {
   "cell_type": "code",
   "execution_count": null,
   "metadata": {},
   "outputs": [],
   "source": []
  }
 ],
 "metadata": {
  "kernelspec": {
   "display_name": "R",
   "language": "R",
   "name": "ir"
  },
  "language_info": {
   "codemirror_mode": "r",
   "file_extension": ".r",
   "mimetype": "text/x-r-source",
   "name": "R",
   "pygments_lexer": "r",
   "version": "3.5.1"
  }
 },
 "nbformat": 4,
 "nbformat_minor": 2
}
